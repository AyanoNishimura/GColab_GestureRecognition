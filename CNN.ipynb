{
  "nbformat": 4,
  "nbformat_minor": 0,
  "metadata": {
    "colab": {
      "name": "CNN.ipynb",
      "version": "0.3.2",
      "provenance": [],
      "collapsed_sections": [],
      "include_colab_link": true
    },
    "kernelspec": {
      "name": "python3",
      "display_name": "Python 3"
    },
    "accelerator": "GPU"
  },
  "cells": [
    {
      "cell_type": "markdown",
      "metadata": {
        "id": "view-in-github",
        "colab_type": "text"
      },
      "source": [
        "<a href=\"https://colab.research.google.com/github/AyanoNishimura/GColab_GestureRecognition/blob/master/CNN.ipynb\" target=\"_parent\"><img src=\"https://colab.research.google.com/assets/colab-badge.svg\" alt=\"Open In Colab\"/></a>"
      ]
    },
    {
      "metadata": {
        "id": "mLab_LGyvZpW",
        "colab_type": "text"
      },
      "cell_type": "markdown",
      "source": [
        "* テストデータに偏りが無いかを確認する\n",
        "* best_loss, best_epoch をループの外に置いて記録しておく\n",
        "  * テストデータの学習率が一定(n = 32とか適当)epochで上がらない場合、学習を止める\n",
        "  * 実装したらちゃんと動いてるか少ないデータで確認する\n",
        "* 入力のsequence = 32 とする\n",
        "* fc層にsequence = 1 が入るようする\n",
        "* pooling層を5つ入れる\n",
        "  * conv, conv, poolingとかでいい\n",
        "  * 均一になるようにpooling層を入れる\n",
        "* conv層を 5, 10, 15,  20 に重ねる\n",
        "  * conv ksize =(3, 1), stride = (1,1) , padding=(1, 1)\n",
        "  * paddingは本当は入れない方がいい\n",
        "* lrは10^-2, 10^-4, 10^-6でやる\n",
        "* conv層チャネル数 8, 16, 32（すべて同じでおｋ）\n",
        "* weight decay を 0にする\n",
        "* 36通り試す"
      ]
    },
    {
      "metadata": {
        "id": "lIY2j50Lerar",
        "colab_type": "code",
        "outputId": "a1aca049-d2b0-4a0e-babf-6c70bff3572d",
        "colab": {
          "base_uri": "https://localhost:8080/",
          "height": 89
        }
      },
      "cell_type": "code",
      "source": [
        "# Import Chainer \n",
        "from chainer import Chain, Variable, optimizers, serializers, datasets, training, cuda\n",
        "from chainer.training import extensions\n",
        "import chainer.functions as F\n",
        "import chainer.links as L\n",
        "from chainer import Variable\n",
        "import chainer\n",
        "\n",
        "# Import NumPy and CuPy\n",
        "import numpy as np\n",
        "import pandas as pd\n",
        "from progressbar import ProgressBar\n",
        "from sklearn.model_selection import train_test_split\n",
        "import math\n",
        "import matplotlib\n",
        "matplotlib.use('Agg')\n",
        "import matplotlib.pyplot as plt\n",
        "\n",
        "# Install the PyDrive wrapper & import libraries.\n",
        "# This only needs to be done once per notebook.\n",
        "!pip install -U -q PyDrive\n",
        "from pydrive.auth import GoogleAuth\n",
        "from pydrive.drive import GoogleDrive\n",
        "from google.colab import auth\n",
        "from oauth2client.client import GoogleCredentials\n",
        "\n",
        "# mout drive\n",
        "from google.colab import drive\n",
        "drive.mount('/gdrive')\n",
        "\n",
        "print('Chainer version: ', chainer.__version__)\n",
        "print('GPU availability:', chainer.cuda.available)\n",
        "print('cuDNN availablility:', chainer.cuda.cudnn_enabled)"
      ],
      "execution_count": 0,
      "outputs": [
        {
          "output_type": "stream",
          "text": [
            "Drive already mounted at /gdrive; to attempt to forcibly remount, call drive.mount(\"/gdrive\", force_remount=True).\n",
            "Chainer version:  5.0.0\n",
            "GPU availability: True\n",
            "cuDNN availablility: True\n"
          ],
          "name": "stdout"
        }
      ]
    },
    {
      "metadata": {
        "id": "s48JvSvxfofw",
        "colab_type": "text"
      },
      "cell_type": "markdown",
      "source": [
        "variables"
      ]
    },
    {
      "metadata": {
        "id": "sN2qPMn6fpbw",
        "colab_type": "code",
        "colab": {}
      },
      "cell_type": "code",
      "source": [
        "is_debug = False\n",
        "lr = 10 ** np.random.uniform(-6, -2)\n",
        "wd = 10 ** np.random.uniform(-8, -4)\n",
        "sequence = 10\n",
        "batch_size = 140 # gesture_num * n\n",
        "loop_time = 10\n",
        "epoch_num = 200\n",
        "\n",
        "# path\n",
        "models_path = '/gdrive/My Drive/DeepLearning/GestureRecognition/models/CNN/'\n",
        "output_filename = 'epoch_' + str(epoch_num) + '_lr_' + str(lr) + '_wd_' + str(wd)"
      ],
      "execution_count": 0,
      "outputs": []
    },
    {
      "metadata": {
        "id": "uOdBL9n5fbc4",
        "colab_type": "text"
      },
      "cell_type": "markdown",
      "source": [
        "models"
      ]
    },
    {
      "metadata": {
        "id": "lQfW4G7RfeUA",
        "colab_type": "code",
        "colab": {}
      },
      "cell_type": "code",
      "source": [
        "class CNN(chainer.Chain):\n",
        "  def __init__(self, n_out):\n",
        "    super(CNN, self).__init__()\n",
        "    with self.init_scope():\n",
        "      self.conv1 = L.Convolution2D(None, 1000, (2, 1), stride=(1, 1), pad=(0, 0))\n",
        "      self.conv2 = L.Convolution2D(None, 1500, (2, 1), stride=(1, 1), pad=(0, 0))\n",
        "      self.l1 = L.Linear(None, n_out)\n",
        "      \n",
        "  def forward(self, x_data, t_data):\n",
        "    x, t = Variable(cuda.to_gpu(x_data)), Variable(cuda.to_gpu(t_data))\n",
        "#     print(x.shape, t.shape)\n",
        "    \n",
        "    h = self.conv1(x)\n",
        "#     print(self.conv1.W.shape, self.conv1.b.shape)\n",
        "#     print(\"a: \", h.shape)\n",
        "#     h = F.local_response_normalization(h)\n",
        "#     print(\"b: \", h.shape)\n",
        "    h = F.relu(h)\n",
        "#     print(\"c: \", h.shape)\n",
        "    h = F.max_pooling_2d(h, (2, 1), stride=(2, 1))\n",
        "#     print(\"d: \", h.shape)\n",
        "    \n",
        "    h = self.conv2(h)\n",
        "#     print(\"e: \", h.shape)\n",
        "#     h = F.local_response_normalization(h)\n",
        "#     print(\"f: \", h.shape)\n",
        "    h = F.relu(h)\n",
        "#     print(\"g: \", h.shape)\n",
        "    h = F.max_pooling_2d(h, (2, 1), stride=(2, 1))\n",
        "#     print(\"h: \", h.shape)\n",
        "    \n",
        "    y = self.l1(h)\n",
        "    \n",
        "    return F.softmax_cross_entropy(y, t), F.accuracy(y, t)"
      ],
      "execution_count": 0,
      "outputs": []
    },
    {
      "metadata": {
        "id": "KL8JXhhsffGI",
        "colab_type": "text"
      },
      "cell_type": "markdown",
      "source": [
        "train"
      ]
    },
    {
      "metadata": {
        "id": "P1UIeIWAfgCY",
        "colab_type": "code",
        "colab": {}
      },
      "cell_type": "code",
      "source": [
        "def train(file_path):\n",
        "  train, test = get_train_test_data(file_path)\n",
        "  print('-'*5 +'data size'+ '-'*5)\n",
        "  print('train data: ', train.shape[0])\n",
        "  print('test data: ', test.shape[0])\n",
        "  \n",
        "  t_train = pd.DataFrame({'gesture': train['gesture'], 'participants': train['participants']})\n",
        "  x_train = train.drop('gesture', axis=1)\n",
        "  t_test = pd.DataFrame({'gesture': test['gesture'], 'participants': test['participants']})\n",
        "  x_test = test.drop('gesture', axis=1)\n",
        "\n",
        "  train_acc_list, train_loss_list, test_acc_list, test_loss_list = training(x_train, t_train, x_test, t_test)\n",
        "  \n",
        "  # show graph acc\n",
        "  plt.figure()\n",
        "  x = np.arange(len(train_acc_list))\n",
        "  plt.plot(x, train_acc_list, marker='o', label='train')\n",
        "  t = np.arange(len(test_acc_list))\n",
        "  plt.plot(t, test_acc_list, marker='+', label='test')\n",
        "  plt.xlabel('epochs')\n",
        "  plt.ylabel('accuracy')\n",
        "  plt.ylim(-0.05, 1.0)\n",
        "  plt.savefig(models_path + output_filename + '_acc.png')\n",
        "  plt.close()\n",
        "  \n",
        "  plt.figure()\n",
        "  x = np.arange(len(train_loss_list))\n",
        "  plt.plot(x, train_loss_list, marker='o', color='r', label='train')\n",
        "  t = np.arange(len(test_loss_list))\n",
        "  plt.plot(t, test_loss_list, marker='+', color='b', label='test')\n",
        "  plt.xlabel('epochs')\n",
        "  plt.ylabel('loss')\n",
        "#   plt.ylim(0.0, 10.0)\n",
        "  plt.savefig(models_path + output_filename + '_loss.png')\n",
        "  plt.close()\n",
        "\n",
        "  print('Done!')"
      ],
      "execution_count": 0,
      "outputs": []
    },
    {
      "metadata": {
        "id": "XlJtpZmOjIRL",
        "colab_type": "code",
        "colab": {}
      },
      "cell_type": "code",
      "source": [
        "# 実際に学習を行う関数\n",
        "def training(x_train, t_train, x_test, t_test):\n",
        "  gesture_num = int(t_train['gesture'].max()) + 1\n",
        "  \n",
        "  print('-'*5 +'gesture num'+ '-'*5)\n",
        "  print(gesture_num)\n",
        "  print('-'*5 +'Hyper Parameter'+ '-'*5)\n",
        "  print('lr: ', lr)\n",
        "  print('weight decay: ', wd)\n",
        "  \n",
        "  # create model instance\n",
        "  model = CNN(gesture_num)\n",
        "  \n",
        "  # setting GPU\n",
        "  model.to_gpu()\n",
        "  \n",
        "  # setting optimizer\n",
        "  optimizer = chainer.optimizers.Adam(alpha=lr, weight_decay_rate=wd)\n",
        "  optimizer.setup(model)\n",
        "  \n",
        "  # training\n",
        "  train_acc_list, train_loss_list = [], []\n",
        "  test_acc_list, test_loss_list = [], []\n",
        "  print('-'*5 +'train start'+ '-'*5)\n",
        "  for epoch in range(epoch_num):\n",
        "    print('Epoch: %d' % (epoch+1))\n",
        "    \n",
        "    # set progress bar for train\n",
        "    prg = ProgressBar(0, batch_size * loop_time)\n",
        "    prg_num = 0\n",
        "    \n",
        "    loss, accuracy = forward(x_train, t_train, gesture_num, model, optimizer, prg, prg_num)\n",
        "    \n",
        "    train_loss_list.append(loss)\n",
        "    train_acc_list.append(accuracy)\n",
        "    \n",
        "    # set progress bar for test\n",
        "    prg = ProgressBar(0, int(len(x_test)/sequence))\n",
        "    prg_num = 0\n",
        "    \n",
        "    loss, accuracy = forward(x_test, t_test, gesture_num, model, optimizer, prg, prg_num, False)\n",
        "    \n",
        "    test_loss_list.append(loss)\n",
        "    test_acc_list.append(accuracy)\n",
        "    \n",
        "  serializers.save_hdf5(models_path + output_filename, model)\n",
        "  return train_acc_list, train_loss_list, test_acc_list, test_loss_list"
      ],
      "execution_count": 0,
      "outputs": []
    },
    {
      "metadata": {
        "id": "2iXJ0vbGI9D3",
        "colab_type": "code",
        "colab": {}
      },
      "cell_type": "code",
      "source": [
        "# forwardの関数\n",
        "def forward(x_data, t_data, gesture_num, model, optimizer, prg, prg_num, is_train=True):\n",
        "  sum_accuracy, sum_loss, sum_batch_size = 0, 0, 0\n",
        "  x_batch, t_batch = [], []\n",
        "  current_gesture, batch_loop = 0, 0\n",
        "  if is_train:\n",
        "    batch_loop = batch_size * loop_time * sequence\n",
        "  else:\n",
        "    batch_loop = len(x_data)\n",
        "  \n",
        "  for i in range(0, batch_loop, sequence):\n",
        "    if is_train: # 学習時は均等にジェスチャーが入るようにバッチを作成する\n",
        "      current_gesture = int(math.floor(len(x_batch) / (batch_size / gesture_num)))\n",
        "#       print('current gesture: ', current_gesture)\n",
        "      index_list = t_data.loc[t_data['gesture'] == current_gesture].index\n",
        "      num = np.random.randint(index_list[0], index_list[-1]-sequence)\n",
        "      x = x_data.iloc[num:num+sequence]\n",
        "      t = t_data.iloc[num:num+sequence]\n",
        "    else: # テストデータは総なめする \n",
        "      x = x_data.iloc[i:i+sequence]\n",
        "      t = t_data.iloc[i:i+sequence]\n",
        "\n",
        "    if len(x) < sequence:\n",
        "      continue\n",
        "\n",
        "    x, t = get_sequence(x, t)\n",
        "\n",
        "    x_batch.append(x)\n",
        "    t_batch.append(t)\n",
        "    \n",
        "    if len(x_batch) == batch_size or i >= (batch_loop - 1) - sequence:\n",
        "      x_batch = np.reshape(x_batch, (len(x_batch), 75, sequence, 1))\n",
        "      t_batch = np.array(t_batch, dtype=np.int32)\n",
        "      t_batch = t_batch.reshape(-1)\n",
        "\n",
        "      # update progress bar\n",
        "      prg.update(prg_num)\n",
        "      prg_num = prg_num + len(x_batch)\n",
        "\n",
        "      # get loss and accuracy\n",
        "      loss, acc = model.forward(x_batch, t_batch)\n",
        "\n",
        "      if is_train:\n",
        "        model.zerograds()\n",
        "        loss.backward()\n",
        "        loss.unchain_backward()\n",
        "\n",
        "        optimizer.update()\n",
        "\n",
        "      sum_loss += float(loss.data) * len(x_batch)\n",
        "      sum_accuracy += float(acc.data) * len(x_batch)\n",
        "      sum_batch_size += len(x_batch)\n",
        "\n",
        "      x_batch, t_batch = [], []\n",
        "    \n",
        "  # show training data loss and accuracy\n",
        "  loss = sum_loss / sum_batch_size\n",
        "  accuracy = sum_accuracy / sum_batch_size\n",
        "  \n",
        "  str = 'train'\n",
        "  if not is_train:\n",
        "    str = 'test'\n",
        "  print(str + ' mean loss={}, accuracy={}'.format(loss, accuracy))\n",
        "    \n",
        "  return loss, accuracy"
      ],
      "execution_count": 0,
      "outputs": []
    },
    {
      "metadata": {
        "id": "yKizHeJVvhMs",
        "colab_type": "code",
        "colab": {}
      },
      "cell_type": "code",
      "source": [
        "# バッチデータをフォーマットする\n",
        "def get_sequence(x_batch, t_batch):\n",
        "  x_batch = x_batch.drop('participants', axis=1)\n",
        "  x_batch = x_batch.values.astype(np.float32)\n",
        "  t_batch = t_batch.drop('participants', axis=1)\n",
        "  t_batch = t_batch.mode().iloc[0]\n",
        "  t_batch = t_batch.values.astype(np.int32)\n",
        "  t_batch = t_batch.reshape(-1)\n",
        "\n",
        "  return x_batch, t_batch"
      ],
      "execution_count": 0,
      "outputs": []
    },
    {
      "metadata": {
        "id": "iG8UYKGfgVFA",
        "colab_type": "code",
        "colab": {}
      },
      "cell_type": "code",
      "source": [
        "# 学習用、検証用にファイルのデータを分ける\n",
        "def get_train_test_data(file_path):\n",
        "  data = pd.read_csv(file_path)\n",
        "  gesture_num = int(data['gesture'].max())\n",
        "  train = test = pd.DataFrame().reindex_like(data)[:0]\n",
        "  for index in range(0, gesture_num + 1):\n",
        "    tr, te = train_test_split(data.query('gesture == ' + str(index)), test_size=0.2, shuffle=False)\n",
        "    train = train.append(tr)\n",
        "    test = test.append(te)\n",
        "  train = train.reset_index(drop=True)\n",
        "  test = test.reset_index(drop=True)\n",
        "  \n",
        "  # めっちゃ小さいデータを扱うとき\n",
        "#   train = train[100:150]\n",
        "#   train = test\n",
        "  \n",
        "  return train, test"
      ],
      "execution_count": 0,
      "outputs": []
    },
    {
      "metadata": {
        "id": "Xi7YUiUwfke4",
        "colab_type": "text"
      },
      "cell_type": "markdown",
      "source": [
        "main"
      ]
    },
    {
      "metadata": {
        "id": "xHAe4wWfflig",
        "colab_type": "code",
        "outputId": "296a230c-1df5-4d64-e930-bbd462618048",
        "colab": {
          "base_uri": "https://localhost:8080/",
          "height": 5147
        }
      },
      "cell_type": "code",
      "source": [
        "if is_debug:\n",
        "#   file_path = '/gdrive/My Drive/DeepLearning/GestureRecognition/data/small/train_classification.csv'\n",
        "  file_path = '/gdrive/My Drive/DeepLearning/GestureRecognition/data/trim/train_classification.csv'\n",
        "#   file_path = '/gdrive/My Drive/DeepLearning/GestureRecognition/data/small.csv'\n",
        "else:\n",
        "  file_path = '/gdrive/My Drive/DeepLearning/GestureRecognition/data/formatted/train_classification.csv'\n",
        "  \n",
        "train(file_path)"
      ],
      "execution_count": 0,
      "outputs": [
        {
          "output_type": "stream",
          "text": [
            "-----data size-----\n",
            "train data:  1226407\n",
            "test data:  306607\n",
            "-----gesture num-----\n",
            "7\n",
            "-----Hyper Parameter-----\n",
            "lr:  8.3675474826075e-05\n",
            "weight decay:  1.3263043580379983e-05\n",
            "-----train start-----\n",
            "Epoch: 1\n"
          ],
          "name": "stdout"
        },
        {
          "output_type": "stream",
          "text": [
            " 90% (1260 of 1400) |##################  | Elapsed Time: 0:00:09 ETA:   0:00:01"
          ],
          "name": "stderr"
        },
        {
          "output_type": "stream",
          "text": [
            "train mean loss=2486.6056396484373, accuracy=0.14428572058677674\n"
          ],
          "name": "stdout"
        },
        {
          "output_type": "stream",
          "text": [
            " 99% (30520 of 30660) |################# | Elapsed Time: 0:01:33 ETA:   0:00:00"
          ],
          "name": "stderr"
        },
        {
          "output_type": "stream",
          "text": [
            "test mean loss=2448.333454545774, accuracy=0.13786692765953878\n",
            "Epoch: 2\n"
          ],
          "name": "stdout"
        },
        {
          "output_type": "stream",
          "text": [
            " 90% (1260 of 1400) |##################  | Elapsed Time: 0:00:09 ETA:   0:00:01"
          ],
          "name": "stderr"
        },
        {
          "output_type": "stream",
          "text": [
            "train mean loss=1549.7716186523437, accuracy=0.15214286297559737\n"
          ],
          "name": "stdout"
        },
        {
          "output_type": "stream",
          "text": [
            " 99% (30520 of 30660) |################# | Elapsed Time: 0:01:33 ETA:   0:00:00"
          ],
          "name": "stderr"
        },
        {
          "output_type": "stream",
          "text": [
            "test mean loss=1040.9813645593651, accuracy=0.11291585120980598\n",
            "Epoch: 3\n"
          ],
          "name": "stdout"
        },
        {
          "output_type": "stream",
          "text": [
            " 90% (1260 of 1400) |##################  | Elapsed Time: 0:00:09 ETA:   0:00:01"
          ],
          "name": "stderr"
        },
        {
          "output_type": "stream",
          "text": [
            "train mean loss=833.549755859375, accuracy=0.15500000566244126\n"
          ],
          "name": "stdout"
        },
        {
          "output_type": "stream",
          "text": [
            " 99% (30520 of 30660) |################# | Elapsed Time: 0:01:33 ETA:   0:00:00"
          ],
          "name": "stderr"
        },
        {
          "output_type": "stream",
          "text": [
            "test mean loss=1024.9506723940576, accuracy=0.15887149516493082\n",
            "Epoch: 4\n"
          ],
          "name": "stdout"
        },
        {
          "output_type": "stream",
          "text": [
            " 90% (1260 of 1400) |##################  | Elapsed Time: 0:00:09 ETA:   0:00:01"
          ],
          "name": "stderr"
        },
        {
          "output_type": "stream",
          "text": [
            "train mean loss=620.658251953125, accuracy=0.17285714745521547\n"
          ],
          "name": "stdout"
        },
        {
          "output_type": "stream",
          "text": [
            " 99% (30520 of 30660) |################# | Elapsed Time: 0:01:32 ETA:   0:00:00"
          ],
          "name": "stderr"
        },
        {
          "output_type": "stream",
          "text": [
            "test mean loss=458.2815260010767, accuracy=0.10410958886801448\n",
            "Epoch: 5\n"
          ],
          "name": "stdout"
        },
        {
          "output_type": "stream",
          "text": [
            " 90% (1260 of 1400) |##################  | Elapsed Time: 0:00:09 ETA:   0:00:01"
          ],
          "name": "stderr"
        },
        {
          "output_type": "stream",
          "text": [
            "train mean loss=427.1427307128906, accuracy=0.1471428632736206\n"
          ],
          "name": "stdout"
        },
        {
          "output_type": "stream",
          "text": [
            " 99% (30520 of 30660) |################# | Elapsed Time: 0:01:35 ETA:   0:00:00"
          ],
          "name": "stderr"
        },
        {
          "output_type": "stream",
          "text": [
            "test mean loss=338.86172291475293, accuracy=0.20923026709192216\n",
            "Epoch: 6\n"
          ],
          "name": "stdout"
        },
        {
          "output_type": "stream",
          "text": [
            " 90% (1260 of 1400) |##################  | Elapsed Time: 0:00:09 ETA:   0:00:01"
          ],
          "name": "stderr"
        },
        {
          "output_type": "stream",
          "text": [
            "train mean loss=537.8452850341797, accuracy=0.18428571820259093\n"
          ],
          "name": "stdout"
        },
        {
          "output_type": "stream",
          "text": [
            " 99% (30520 of 30660) |################# | Elapsed Time: 0:01:33 ETA:   0:00:00"
          ],
          "name": "stderr"
        },
        {
          "output_type": "stream",
          "text": [
            "test mean loss=663.5280267484657, accuracy=0.1318982388828477\n",
            "Epoch: 7\n"
          ],
          "name": "stdout"
        },
        {
          "output_type": "stream",
          "text": [
            " 90% (1260 of 1400) |##################  | Elapsed Time: 0:00:09 ETA:   0:00:01"
          ],
          "name": "stderr"
        },
        {
          "output_type": "stream",
          "text": [
            "train mean loss=530.671630859375, accuracy=0.1650000050663948\n"
          ],
          "name": "stdout"
        },
        {
          "output_type": "stream",
          "text": [
            " 99% (30520 of 30660) |################# | Elapsed Time: 0:01:32 ETA:   0:00:00"
          ],
          "name": "stderr"
        },
        {
          "output_type": "stream",
          "text": [
            "test mean loss=619.5633693253069, accuracy=0.22175472949686797\n",
            "Epoch: 8\n"
          ],
          "name": "stdout"
        },
        {
          "output_type": "stream",
          "text": [
            " 90% (1260 of 1400) |##################  | Elapsed Time: 0:00:08 ETA:   0:00:00"
          ],
          "name": "stderr"
        },
        {
          "output_type": "stream",
          "text": [
            "train mean loss=464.7985076904297, accuracy=0.17071429044008254\n"
          ],
          "name": "stdout"
        },
        {
          "output_type": "stream",
          "text": [
            " 99% (30520 of 30660) |################# | Elapsed Time: 0:01:30 ETA:   0:00:00"
          ],
          "name": "stderr"
        },
        {
          "output_type": "stream",
          "text": [
            "test mean loss=366.54924253055026, accuracy=0.08088714944317801\n",
            "Epoch: 9\n"
          ],
          "name": "stdout"
        },
        {
          "output_type": "stream",
          "text": [
            " 90% (1260 of 1400) |##################  | Elapsed Time: 0:00:08 ETA:   0:00:00"
          ],
          "name": "stderr"
        },
        {
          "output_type": "stream",
          "text": [
            "train mean loss=365.9721374511719, accuracy=0.17500000447034836\n"
          ],
          "name": "stdout"
        },
        {
          "output_type": "stream",
          "text": [
            " 99% (30520 of 30660) |################# | Elapsed Time: 0:01:29 ETA:   0:00:00"
          ],
          "name": "stderr"
        },
        {
          "output_type": "stream",
          "text": [
            "test mean loss=210.36321324349927, accuracy=0.1692433142332896\n",
            "Epoch: 10\n"
          ],
          "name": "stdout"
        },
        {
          "output_type": "stream",
          "text": [
            " 90% (1260 of 1400) |##################  | Elapsed Time: 0:00:09 ETA:   0:00:00"
          ],
          "name": "stderr"
        },
        {
          "output_type": "stream",
          "text": [
            "train mean loss=308.8815979003906, accuracy=0.19500000327825545\n"
          ],
          "name": "stdout"
        },
        {
          "output_type": "stream",
          "text": [
            " 99% (30520 of 30660) |################# | Elapsed Time: 0:01:29 ETA:   0:00:00"
          ],
          "name": "stderr"
        },
        {
          "output_type": "stream",
          "text": [
            "test mean loss=337.3445182586914, accuracy=0.21921069819488687\n",
            "Epoch: 11\n"
          ],
          "name": "stdout"
        },
        {
          "output_type": "stream",
          "text": [
            " 90% (1260 of 1400) |##################  | Elapsed Time: 0:00:08 ETA:   0:00:00"
          ],
          "name": "stderr"
        },
        {
          "output_type": "stream",
          "text": [
            "train mean loss=365.2558532714844, accuracy=0.18500000536441802\n"
          ],
          "name": "stdout"
        },
        {
          "output_type": "stream",
          "text": [
            " 99% (30520 of 30660) |################# | Elapsed Time: 0:01:30 ETA:   0:00:00"
          ],
          "name": "stderr"
        },
        {
          "output_type": "stream",
          "text": [
            "test mean loss=522.3573894204751, accuracy=0.1129484666792089\n",
            "Epoch: 12\n"
          ],
          "name": "stdout"
        },
        {
          "output_type": "stream",
          "text": [
            " 90% (1260 of 1400) |##################  | Elapsed Time: 0:00:08 ETA:   0:00:00"
          ],
          "name": "stderr"
        },
        {
          "output_type": "stream",
          "text": [
            "train mean loss=332.3850524902344, accuracy=0.19357143193483353\n"
          ],
          "name": "stdout"
        },
        {
          "output_type": "stream",
          "text": [
            " 99% (30520 of 30660) |################# | Elapsed Time: 0:01:33 ETA:   0:00:00"
          ],
          "name": "stderr"
        },
        {
          "output_type": "stream",
          "text": [
            "test mean loss=264.9321144394615, accuracy=0.20156555717011496\n",
            "Epoch: 13\n"
          ],
          "name": "stdout"
        },
        {
          "output_type": "stream",
          "text": [
            " 90% (1260 of 1400) |##################  | Elapsed Time: 0:00:09 ETA:   0:00:01"
          ],
          "name": "stderr"
        },
        {
          "output_type": "stream",
          "text": [
            "train mean loss=312.50392150878906, accuracy=0.17571429014205933\n"
          ],
          "name": "stdout"
        },
        {
          "output_type": "stream",
          "text": [
            " 99% (30520 of 30660) |################# | Elapsed Time: 0:01:34 ETA:   0:00:00"
          ],
          "name": "stderr"
        },
        {
          "output_type": "stream",
          "text": [
            "test mean loss=360.79552911434854, accuracy=0.18884540077077744\n",
            "Epoch: 14\n"
          ],
          "name": "stdout"
        },
        {
          "output_type": "stream",
          "text": [
            " 90% (1260 of 1400) |##################  | Elapsed Time: 0:00:09 ETA:   0:00:01"
          ],
          "name": "stderr"
        },
        {
          "output_type": "stream",
          "text": [
            "train mean loss=368.3966094970703, accuracy=0.18928571790456772\n"
          ],
          "name": "stdout"
        },
        {
          "output_type": "stream",
          "text": [
            " 99% (30520 of 30660) |################# | Elapsed Time: 0:01:34 ETA:   0:00:00"
          ],
          "name": "stderr"
        },
        {
          "output_type": "stream",
          "text": [
            "test mean loss=404.63079092571655, accuracy=0.22984344451624442\n",
            "Epoch: 15\n"
          ],
          "name": "stdout"
        },
        {
          "output_type": "stream",
          "text": [
            " 90% (1260 of 1400) |##################  | Elapsed Time: 0:00:09 ETA:   0:00:01"
          ],
          "name": "stderr"
        },
        {
          "output_type": "stream",
          "text": [
            "train mean loss=430.5487091064453, accuracy=0.20571428909897804\n"
          ],
          "name": "stdout"
        },
        {
          "output_type": "stream",
          "text": [
            " 99% (30520 of 30660) |################# | Elapsed Time: 0:01:33 ETA:   0:00:00"
          ],
          "name": "stderr"
        },
        {
          "output_type": "stream",
          "text": [
            "test mean loss=352.1751967931019, accuracy=0.24256360044566805\n",
            "Epoch: 16\n"
          ],
          "name": "stdout"
        },
        {
          "output_type": "stream",
          "text": [
            " 90% (1260 of 1400) |##################  | Elapsed Time: 0:00:09 ETA:   0:00:01"
          ],
          "name": "stderr"
        },
        {
          "output_type": "stream",
          "text": [
            "train mean loss=354.77406158447263, accuracy=0.2014285773038864\n"
          ],
          "name": "stdout"
        },
        {
          "output_type": "stream",
          "text": [
            " 99% (30520 of 30660) |################# | Elapsed Time: 0:01:33 ETA:   0:00:00"
          ],
          "name": "stderr"
        },
        {
          "output_type": "stream",
          "text": [
            "test mean loss=322.0839738261978, accuracy=0.1800391396813809\n",
            "Epoch: 17\n"
          ],
          "name": "stdout"
        },
        {
          "output_type": "stream",
          "text": [
            " 90% (1260 of 1400) |##################  | Elapsed Time: 0:00:09 ETA:   0:00:01"
          ],
          "name": "stderr"
        },
        {
          "output_type": "stream",
          "text": [
            "train mean loss=373.4607223510742, accuracy=0.16571429073810579\n"
          ],
          "name": "stdout"
        },
        {
          "output_type": "stream",
          "text": [
            " 99% (30520 of 30660) |################# | Elapsed Time: 0:01:33 ETA:   0:00:00"
          ],
          "name": "stderr"
        },
        {
          "output_type": "stream",
          "text": [
            "test mean loss=244.46093865469732, accuracy=0.25802348286644916\n",
            "Epoch: 18\n"
          ],
          "name": "stdout"
        },
        {
          "output_type": "stream",
          "text": [
            " 90% (1260 of 1400) |##################  | Elapsed Time: 0:00:09 ETA:   0:00:01"
          ],
          "name": "stderr"
        },
        {
          "output_type": "stream",
          "text": [
            "train mean loss=401.77441864013673, accuracy=0.16857143342494965\n"
          ],
          "name": "stdout"
        },
        {
          "output_type": "stream",
          "text": [
            " 99% (30520 of 30660) |################# | Elapsed Time: 0:01:34 ETA:   0:00:00"
          ],
          "name": "stderr"
        },
        {
          "output_type": "stream",
          "text": [
            "test mean loss=393.85125659724974, accuracy=0.20707762543086525\n",
            "Epoch: 19\n"
          ],
          "name": "stdout"
        },
        {
          "output_type": "stream",
          "text": [
            " 90% (1260 of 1400) |##################  | Elapsed Time: 0:00:09 ETA:   0:00:01"
          ],
          "name": "stderr"
        },
        {
          "output_type": "stream",
          "text": [
            "train mean loss=401.2867095947266, accuracy=0.18285714834928513\n"
          ],
          "name": "stdout"
        },
        {
          "output_type": "stream",
          "text": [
            " 99% (30520 of 30660) |################# | Elapsed Time: 0:01:33 ETA:   0:00:00"
          ],
          "name": "stderr"
        },
        {
          "output_type": "stream",
          "text": [
            "test mean loss=334.77783767957646, accuracy=0.11268754062970003\n",
            "Epoch: 20\n"
          ],
          "name": "stdout"
        },
        {
          "output_type": "stream",
          "text": [
            " 90% (1260 of 1400) |##################  | Elapsed Time: 0:00:09 ETA:   0:00:01"
          ],
          "name": "stderr"
        },
        {
          "output_type": "stream",
          "text": [
            "train mean loss=376.2412872314453, accuracy=0.21142857521772385\n"
          ],
          "name": "stdout"
        },
        {
          "output_type": "stream",
          "text": [
            " 99% (30520 of 30660) |################# | Elapsed Time: 0:01:34 ETA:   0:00:00"
          ],
          "name": "stderr"
        },
        {
          "output_type": "stream",
          "text": [
            "test mean loss=451.39991444527897, accuracy=0.11294846706619682\n",
            "Epoch: 21\n"
          ],
          "name": "stdout"
        },
        {
          "output_type": "stream",
          "text": [
            " 90% (1260 of 1400) |##################  | Elapsed Time: 0:00:09 ETA:   0:00:01"
          ],
          "name": "stderr"
        },
        {
          "output_type": "stream",
          "text": [
            "train mean loss=327.4222900390625, accuracy=0.1835714340209961\n"
          ],
          "name": "stdout"
        },
        {
          "output_type": "stream",
          "text": [
            " 99% (30520 of 30660) |################# | Elapsed Time: 0:01:35 ETA:   0:00:00"
          ],
          "name": "stderr"
        },
        {
          "output_type": "stream",
          "text": [
            "test mean loss=233.662179451536, accuracy=0.2756033919381667\n",
            "Epoch: 22\n"
          ],
          "name": "stdout"
        },
        {
          "output_type": "stream",
          "text": [
            " 90% (1260 of 1400) |##################  | Elapsed Time: 0:00:09 ETA:   0:00:01"
          ],
          "name": "stderr"
        },
        {
          "output_type": "stream",
          "text": [
            "train mean loss=207.3763397216797, accuracy=0.20500000417232514\n"
          ],
          "name": "stdout"
        },
        {
          "output_type": "stream",
          "text": [
            " 99% (30520 of 30660) |################# | Elapsed Time: 0:01:33 ETA:   0:00:00"
          ],
          "name": "stderr"
        },
        {
          "output_type": "stream",
          "text": [
            "test mean loss=257.85911668762225, accuracy=0.12459230277321587\n",
            "Epoch: 23\n"
          ],
          "name": "stdout"
        },
        {
          "output_type": "stream",
          "text": [
            " 90% (1260 of 1400) |##################  | Elapsed Time: 0:00:09 ETA:   0:00:01"
          ],
          "name": "stderr"
        },
        {
          "output_type": "stream",
          "text": [
            "train mean loss=256.50833587646486, accuracy=0.2264285758137703\n"
          ],
          "name": "stdout"
        },
        {
          "output_type": "stream",
          "text": [
            " 99% (30520 of 30660) |################# | Elapsed Time: 0:01:34 ETA:   0:00:00"
          ],
          "name": "stderr"
        },
        {
          "output_type": "stream",
          "text": [
            "test mean loss=167.96730900830062, accuracy=0.15805609913789517\n",
            "Epoch: 24\n"
          ],
          "name": "stdout"
        },
        {
          "output_type": "stream",
          "text": [
            " 90% (1260 of 1400) |##################  | Elapsed Time: 0:00:09 ETA:   0:00:01"
          ],
          "name": "stderr"
        },
        {
          "output_type": "stream",
          "text": [
            "train mean loss=172.09187393188478, accuracy=0.20428571701049805\n"
          ],
          "name": "stdout"
        },
        {
          "output_type": "stream",
          "text": [
            " 99% (30520 of 30660) |################# | Elapsed Time: 0:01:34 ETA:   0:00:00"
          ],
          "name": "stderr"
        },
        {
          "output_type": "stream",
          "text": [
            "test mean loss=300.20158843931074, accuracy=0.19484670480211438\n",
            "Epoch: 25\n"
          ],
          "name": "stdout"
        },
        {
          "output_type": "stream",
          "text": [
            " 90% (1260 of 1400) |##################  | Elapsed Time: 0:00:09 ETA:   0:00:01"
          ],
          "name": "stderr"
        },
        {
          "output_type": "stream",
          "text": [
            "train mean loss=219.2518081665039, accuracy=0.2378571465611458\n"
          ],
          "name": "stdout"
        },
        {
          "output_type": "stream",
          "text": [
            " 99% (30520 of 30660) |################# | Elapsed Time: 0:01:33 ETA:   0:00:00"
          ],
          "name": "stderr"
        },
        {
          "output_type": "stream",
          "text": [
            "test mean loss=219.9454147853808, accuracy=0.13900847972017716\n",
            "Epoch: 26\n"
          ],
          "name": "stdout"
        },
        {
          "output_type": "stream",
          "text": [
            " 90% (1260 of 1400) |##################  | Elapsed Time: 0:00:09 ETA:   0:00:01"
          ],
          "name": "stderr"
        },
        {
          "output_type": "stream",
          "text": [
            "train mean loss=207.4349594116211, accuracy=0.21642857491970063\n"
          ],
          "name": "stdout"
        },
        {
          "output_type": "stream",
          "text": [
            " 99% (30520 of 30660) |################# | Elapsed Time: 0:01:34 ETA:   0:00:00"
          ],
          "name": "stderr"
        },
        {
          "output_type": "stream",
          "text": [
            "test mean loss=354.06437571128055, accuracy=0.2280169603793316\n",
            "Epoch: 27\n"
          ],
          "name": "stdout"
        },
        {
          "output_type": "stream",
          "text": [
            " 90% (1260 of 1400) |##################  | Elapsed Time: 0:00:09 ETA:   0:00:01"
          ],
          "name": "stderr"
        },
        {
          "output_type": "stream",
          "text": [
            "train mean loss=232.5079833984375, accuracy=0.2364285781979561\n"
          ],
          "name": "stdout"
        },
        {
          "output_type": "stream",
          "text": [
            " 99% (30520 of 30660) |################# | Elapsed Time: 0:01:34 ETA:   0:00:00"
          ],
          "name": "stderr"
        },
        {
          "output_type": "stream",
          "text": [
            "test mean loss=250.0764276200977, accuracy=0.2158512730878612\n",
            "Epoch: 28\n"
          ],
          "name": "stdout"
        },
        {
          "output_type": "stream",
          "text": [
            " 90% (1260 of 1400) |##################  | Elapsed Time: 0:00:09 ETA:   0:00:01"
          ],
          "name": "stderr"
        },
        {
          "output_type": "stream",
          "text": [
            "train mean loss=230.9832847595215, accuracy=0.23214286118745803\n"
          ],
          "name": "stdout"
        },
        {
          "output_type": "stream",
          "text": [
            " 99% (30520 of 30660) |################# | Elapsed Time: 0:01:32 ETA:   0:00:00"
          ],
          "name": "stderr"
        },
        {
          "output_type": "stream",
          "text": [
            "test mean loss=117.59533934147623, accuracy=0.20052185287852198\n",
            "Epoch: 29\n"
          ],
          "name": "stdout"
        },
        {
          "output_type": "stream",
          "text": [
            " 90% (1260 of 1400) |##################  | Elapsed Time: 0:00:08 ETA:   0:00:01"
          ],
          "name": "stderr"
        },
        {
          "output_type": "stream",
          "text": [
            "train mean loss=268.64379730224607, accuracy=0.20857143253087998\n"
          ],
          "name": "stdout"
        },
        {
          "output_type": "stream",
          "text": [
            " 99% (30520 of 30660) |################# | Elapsed Time: 0:01:30 ETA:   0:00:00"
          ],
          "name": "stderr"
        },
        {
          "output_type": "stream",
          "text": [
            "test mean loss=136.86459039570104, accuracy=0.2997064578482992\n",
            "Epoch: 30\n"
          ],
          "name": "stdout"
        },
        {
          "output_type": "stream",
          "text": [
            " 90% (1260 of 1400) |##################  | Elapsed Time: 0:00:08 ETA:   0:00:01"
          ],
          "name": "stderr"
        },
        {
          "output_type": "stream",
          "text": [
            "train mean loss=226.49929275512696, accuracy=0.22785714715719224\n"
          ],
          "name": "stdout"
        },
        {
          "output_type": "stream",
          "text": [
            " 99% (30520 of 30660) |################# | Elapsed Time: 0:01:29 ETA:   0:00:00"
          ],
          "name": "stderr"
        },
        {
          "output_type": "stream",
          "text": [
            "test mean loss=342.8709043271193, accuracy=0.11751467730747918\n",
            "Epoch: 31\n"
          ],
          "name": "stdout"
        },
        {
          "output_type": "stream",
          "text": [
            " 90% (1260 of 1400) |##################  | Elapsed Time: 0:00:08 ETA:   0:00:00"
          ],
          "name": "stderr"
        },
        {
          "output_type": "stream",
          "text": [
            "train mean loss=291.71080169677737, accuracy=0.2264285758137703\n"
          ],
          "name": "stdout"
        },
        {
          "output_type": "stream",
          "text": [
            " 99% (30520 of 30660) |################# | Elapsed Time: 0:01:29 ETA:   0:00:00"
          ],
          "name": "stderr"
        },
        {
          "output_type": "stream",
          "text": [
            "test mean loss=481.7014633036095, accuracy=0.11350293541497224\n",
            "Epoch: 32\n"
          ],
          "name": "stdout"
        },
        {
          "output_type": "stream",
          "text": [
            " 90% (1260 of 1400) |##################  | Elapsed Time: 0:00:08 ETA:   0:00:00"
          ],
          "name": "stderr"
        },
        {
          "output_type": "stream",
          "text": [
            "train mean loss=312.5243347167969, accuracy=0.21785714477300644\n"
          ],
          "name": "stdout"
        },
        {
          "output_type": "stream",
          "text": [
            " 99% (30520 of 30660) |################# | Elapsed Time: 0:01:29 ETA:   0:00:00"
          ],
          "name": "stderr"
        },
        {
          "output_type": "stream",
          "text": [
            "test mean loss=572.4666392356488, accuracy=0.10681669948384438\n",
            "Epoch: 33\n"
          ],
          "name": "stdout"
        },
        {
          "output_type": "stream",
          "text": [
            " 90% (1260 of 1400) |##################  | Elapsed Time: 0:00:08 ETA:   0:00:00"
          ],
          "name": "stderr"
        },
        {
          "output_type": "stream",
          "text": [
            "train mean loss=391.0727874755859, accuracy=0.16571429073810579\n"
          ],
          "name": "stdout"
        },
        {
          "output_type": "stream",
          "text": [
            " 99% (30520 of 30660) |################# | Elapsed Time: 0:01:29 ETA:   0:00:00"
          ],
          "name": "stderr"
        },
        {
          "output_type": "stream",
          "text": [
            "test mean loss=359.96826851774074, accuracy=0.1338551863411348\n",
            "Epoch: 34\n"
          ],
          "name": "stdout"
        },
        {
          "output_type": "stream",
          "text": [
            " 90% (1260 of 1400) |##################  | Elapsed Time: 0:00:08 ETA:   0:00:00"
          ],
          "name": "stderr"
        },
        {
          "output_type": "stream",
          "text": [
            "train mean loss=429.87171630859376, accuracy=0.19928572028875352\n"
          ],
          "name": "stdout"
        },
        {
          "output_type": "stream",
          "text": [
            " 99% (30520 of 30660) |################# | Elapsed Time: 0:01:29 ETA:   0:00:00"
          ],
          "name": "stderr"
        },
        {
          "output_type": "stream",
          "text": [
            "test mean loss=314.37363000053864, accuracy=0.24569471543612273\n",
            "Epoch: 35\n"
          ],
          "name": "stdout"
        },
        {
          "output_type": "stream",
          "text": [
            "N/A% (0 of 30660) |                      | Elapsed Time: 0:00:00 ETA:  --:--:--"
          ],
          "name": "stderr"
        },
        {
          "output_type": "stream",
          "text": [
            "train mean loss=251.4607391357422, accuracy=0.2007142886519432\n"
          ],
          "name": "stdout"
        },
        {
          "output_type": "stream",
          "text": [
            " 99% (30520 of 30660) |################# | Elapsed Time: 0:01:29 ETA:   0:00:00"
          ],
          "name": "stderr"
        },
        {
          "output_type": "stream",
          "text": [
            "test mean loss=238.33680774754586, accuracy=0.1251467719214828\n",
            "Epoch: 36\n"
          ],
          "name": "stdout"
        },
        {
          "output_type": "stream",
          "text": [
            " 90% (1260 of 1400) |##################  | Elapsed Time: 0:00:08 ETA:   0:00:00"
          ],
          "name": "stderr"
        },
        {
          "output_type": "stream",
          "text": [
            "train mean loss=184.1366165161133, accuracy=0.25357143580913544\n"
          ],
          "name": "stdout"
        },
        {
          "output_type": "stream",
          "text": [
            " 99% (30520 of 30660) |################# | Elapsed Time: 0:01:29 ETA:   0:00:00"
          ],
          "name": "stderr"
        },
        {
          "output_type": "stream",
          "text": [
            "test mean loss=307.2469610921333, accuracy=0.1253750816298028\n",
            "Epoch: 37\n"
          ],
          "name": "stdout"
        },
        {
          "output_type": "stream",
          "text": [
            " 90% (1260 of 1400) |##################  | Elapsed Time: 0:00:08 ETA:   0:00:00"
          ],
          "name": "stderr"
        },
        {
          "output_type": "stream",
          "text": [
            "train mean loss=237.93031005859376, accuracy=0.23357143253087997\n"
          ],
          "name": "stdout"
        },
        {
          "output_type": "stream",
          "text": [
            " 99% (30520 of 30660) |################# | Elapsed Time: 0:01:29 ETA:   0:00:00"
          ],
          "name": "stderr"
        },
        {
          "output_type": "stream",
          "text": [
            "test mean loss=400.2620274049132, accuracy=0.1230593610759059\n",
            "Epoch: 38\n"
          ],
          "name": "stdout"
        },
        {
          "output_type": "stream",
          "text": [
            " 90% (1260 of 1400) |##################  | Elapsed Time: 0:00:08 ETA:   0:00:00"
          ],
          "name": "stderr"
        },
        {
          "output_type": "stream",
          "text": [
            "train mean loss=273.39881134033203, accuracy=0.2528571456670761\n"
          ],
          "name": "stdout"
        },
        {
          "output_type": "stream",
          "text": [
            " 99% (30520 of 30660) |################# | Elapsed Time: 0:01:30 ETA:   0:00:00"
          ],
          "name": "stderr"
        },
        {
          "output_type": "stream",
          "text": [
            "test mean loss=202.01523273069256, accuracy=0.2557729938828714\n",
            "Epoch: 39\n"
          ],
          "name": "stdout"
        },
        {
          "output_type": "stream",
          "text": [
            " 90% (1260 of 1400) |##################  | Elapsed Time: 0:00:08 ETA:   0:00:00"
          ],
          "name": "stderr"
        },
        {
          "output_type": "stream",
          "text": [
            "train mean loss=262.77123870849607, accuracy=0.22214286029338837\n"
          ],
          "name": "stdout"
        },
        {
          "output_type": "stream",
          "text": [
            " 99% (30520 of 30660) |################# | Elapsed Time: 0:01:30 ETA:   0:00:00"
          ],
          "name": "stderr"
        },
        {
          "output_type": "stream",
          "text": [
            "test mean loss=407.9813053705921, accuracy=0.22893020279118664\n",
            "Epoch: 40\n"
          ],
          "name": "stdout"
        },
        {
          "output_type": "stream",
          "text": [
            " 90% (1260 of 1400) |##################  | Elapsed Time: 0:00:08 ETA:   0:00:00"
          ],
          "name": "stderr"
        },
        {
          "output_type": "stream",
          "text": [
            "train mean loss=276.71917190551756, accuracy=0.2085714340209961\n"
          ],
          "name": "stdout"
        },
        {
          "output_type": "stream",
          "text": [
            " 99% (30520 of 30660) |################# | Elapsed Time: 0:01:29 ETA:   0:00:00"
          ],
          "name": "stderr"
        },
        {
          "output_type": "stream",
          "text": [
            "test mean loss=213.78137231879384, accuracy=0.20440313093083567\n",
            "Epoch: 41\n"
          ],
          "name": "stdout"
        },
        {
          "output_type": "stream",
          "text": [
            " 90% (1260 of 1400) |##################  | Elapsed Time: 0:00:08 ETA:   0:00:00"
          ],
          "name": "stderr"
        },
        {
          "output_type": "stream",
          "text": [
            "train mean loss=187.87656860351564, accuracy=0.22857143133878707\n"
          ],
          "name": "stdout"
        },
        {
          "output_type": "stream",
          "text": [
            " 99% (30520 of 30660) |################# | Elapsed Time: 0:01:30 ETA:   0:00:00"
          ],
          "name": "stderr"
        },
        {
          "output_type": "stream",
          "text": [
            "test mean loss=186.63548170674207, accuracy=0.15427266835069206\n",
            "Epoch: 42\n"
          ],
          "name": "stdout"
        },
        {
          "output_type": "stream",
          "text": [
            " 90% (1260 of 1400) |##################  | Elapsed Time: 0:00:08 ETA:   0:00:00"
          ],
          "name": "stderr"
        },
        {
          "output_type": "stream",
          "text": [
            "train mean loss=195.89652099609376, accuracy=0.22500000447034835\n"
          ],
          "name": "stdout"
        },
        {
          "output_type": "stream",
          "text": [
            " 99% (30520 of 30660) |################# | Elapsed Time: 0:01:29 ETA:   0:00:00"
          ],
          "name": "stderr"
        },
        {
          "output_type": "stream",
          "text": [
            "test mean loss=156.24038995831756, accuracy=0.2389106330904072\n",
            "Epoch: 43\n"
          ],
          "name": "stdout"
        },
        {
          "output_type": "stream",
          "text": [
            " 90% (1260 of 1400) |##################  | Elapsed Time: 0:00:09 ETA:   0:00:01"
          ],
          "name": "stderr"
        },
        {
          "output_type": "stream",
          "text": [
            "train mean loss=247.9986785888672, accuracy=0.21071428954601287\n"
          ],
          "name": "stdout"
        },
        {
          "output_type": "stream",
          "text": [
            " 99% (30520 of 30660) |################# | Elapsed Time: 0:01:29 ETA:   0:00:00"
          ],
          "name": "stderr"
        },
        {
          "output_type": "stream",
          "text": [
            "test mean loss=173.42942598633965, accuracy=0.20348988865293802\n",
            "Epoch: 44\n"
          ],
          "name": "stdout"
        },
        {
          "output_type": "stream",
          "text": [
            " 90% (1260 of 1400) |##################  | Elapsed Time: 0:00:08 ETA:   0:00:00"
          ],
          "name": "stderr"
        },
        {
          "output_type": "stream",
          "text": [
            "train mean loss=179.07835388183594, accuracy=0.24000000208616257\n"
          ],
          "name": "stdout"
        },
        {
          "output_type": "stream",
          "text": [
            " 99% (30520 of 30660) |################# | Elapsed Time: 0:01:31 ETA:   0:00:00"
          ],
          "name": "stderr"
        },
        {
          "output_type": "stream",
          "text": [
            "test mean loss=184.66090175087592, accuracy=0.14934768611947968\n",
            "Epoch: 45\n"
          ],
          "name": "stdout"
        },
        {
          "output_type": "stream",
          "text": [
            " 90% (1260 of 1400) |##################  | Elapsed Time: 0:00:08 ETA:   0:00:00"
          ],
          "name": "stderr"
        },
        {
          "output_type": "stream",
          "text": [
            "train mean loss=203.18920669555663, accuracy=0.2550000011920929\n"
          ],
          "name": "stdout"
        },
        {
          "output_type": "stream",
          "text": [
            " 99% (30520 of 30660) |################# | Elapsed Time: 0:01:30 ETA:   0:00:00"
          ],
          "name": "stderr"
        },
        {
          "output_type": "stream",
          "text": [
            "test mean loss=288.1031814832406, accuracy=0.22997390755481983\n",
            "Epoch: 46\n"
          ],
          "name": "stdout"
        },
        {
          "output_type": "stream",
          "text": [
            " 90% (1260 of 1400) |##################  | Elapsed Time: 0:00:09 ETA:   0:00:01"
          ],
          "name": "stderr"
        },
        {
          "output_type": "stream",
          "text": [
            "train mean loss=234.35689392089844, accuracy=0.2200000047683716\n"
          ],
          "name": "stdout"
        },
        {
          "output_type": "stream",
          "text": [
            " 99% (30520 of 30660) |################# | Elapsed Time: 0:01:30 ETA:   0:00:00"
          ],
          "name": "stderr"
        },
        {
          "output_type": "stream",
          "text": [
            "test mean loss=217.12511768002017, accuracy=0.22465753449620382\n",
            "Epoch: 47\n"
          ],
          "name": "stdout"
        },
        {
          "output_type": "stream",
          "text": [
            " 90% (1260 of 1400) |##################  | Elapsed Time: 0:00:09 ETA:   0:00:00"
          ],
          "name": "stderr"
        },
        {
          "output_type": "stream",
          "text": [
            "train mean loss=308.26000823974607, accuracy=0.1950000047683716\n"
          ],
          "name": "stdout"
        },
        {
          "output_type": "stream",
          "text": [
            " 99% (30520 of 30660) |################# | Elapsed Time: 0:01:30 ETA:   0:00:00"
          ],
          "name": "stderr"
        },
        {
          "output_type": "stream",
          "text": [
            "test mean loss=333.75059039519937, accuracy=0.1623939987097667\n",
            "Epoch: 48\n"
          ],
          "name": "stdout"
        },
        {
          "output_type": "stream",
          "text": [
            " 90% (1260 of 1400) |##################  | Elapsed Time: 0:00:08 ETA:   0:00:00"
          ],
          "name": "stderr"
        },
        {
          "output_type": "stream",
          "text": [
            "train mean loss=324.388981628418, accuracy=0.18857143223285674\n"
          ],
          "name": "stdout"
        },
        {
          "output_type": "stream",
          "text": [
            " 99% (30520 of 30660) |################# | Elapsed Time: 0:01:30 ETA:   0:00:00"
          ],
          "name": "stderr"
        },
        {
          "output_type": "stream",
          "text": [
            "test mean loss=315.1283651771285, accuracy=0.20456620929422512\n",
            "Epoch: 49\n"
          ],
          "name": "stdout"
        },
        {
          "output_type": "stream",
          "text": [
            " 90% (1260 of 1400) |##################  | Elapsed Time: 0:00:08 ETA:   0:00:01"
          ],
          "name": "stderr"
        },
        {
          "output_type": "stream",
          "text": [
            "train mean loss=307.7946838378906, accuracy=0.22214286029338837\n"
          ],
          "name": "stdout"
        },
        {
          "output_type": "stream",
          "text": [
            " 99% (30520 of 30660) |################# | Elapsed Time: 0:01:30 ETA:   0:00:00"
          ],
          "name": "stderr"
        },
        {
          "output_type": "stream",
          "text": [
            "test mean loss=425.9010515882608, accuracy=0.11389432481137109\n",
            "Epoch: 50\n"
          ],
          "name": "stdout"
        },
        {
          "output_type": "stream",
          "text": [
            " 90% (1260 of 1400) |##################  | Elapsed Time: 0:00:08 ETA:   0:00:00"
          ],
          "name": "stderr"
        },
        {
          "output_type": "stream",
          "text": [
            "train mean loss=282.4373329162598, accuracy=0.2278571456670761\n"
          ],
          "name": "stdout"
        },
        {
          "output_type": "stream",
          "text": [
            " 99% (30520 of 30660) |################# | Elapsed Time: 0:01:30 ETA:   0:00:00"
          ],
          "name": "stderr"
        },
        {
          "output_type": "stream",
          "text": [
            "test mean loss=274.6045231492552, accuracy=0.14347684261129667\n",
            "Epoch: 51\n"
          ],
          "name": "stdout"
        },
        {
          "output_type": "stream",
          "text": [
            " 90% (1260 of 1400) |##################  | Elapsed Time: 0:00:09 ETA:   0:00:00"
          ],
          "name": "stderr"
        },
        {
          "output_type": "stream",
          "text": [
            "train mean loss=292.2046783447266, accuracy=0.2392857179045677\n"
          ],
          "name": "stdout"
        },
        {
          "output_type": "stream",
          "text": [
            " 99% (30520 of 30660) |################# | Elapsed Time: 0:01:30 ETA:   0:00:00"
          ],
          "name": "stderr"
        },
        {
          "output_type": "stream",
          "text": [
            "test mean loss=264.91889868350063, accuracy=0.12716895017398683\n",
            "Epoch: 52\n"
          ],
          "name": "stdout"
        },
        {
          "output_type": "stream",
          "text": [
            " 90% (1260 of 1400) |##################  | Elapsed Time: 0:00:12 ETA:   0:00:01"
          ],
          "name": "stderr"
        },
        {
          "output_type": "stream",
          "text": [
            "train mean loss=290.7884124755859, accuracy=0.22428571581840515\n"
          ],
          "name": "stdout"
        },
        {
          "output_type": "stream",
          "text": [
            " 99% (30520 of 30660) |################# | Elapsed Time: 0:01:33 ETA:   0:00:00"
          ],
          "name": "stderr"
        },
        {
          "output_type": "stream",
          "text": [
            "test mean loss=172.60133412300536, accuracy=0.262263535808976\n",
            "Epoch: 53\n"
          ],
          "name": "stdout"
        },
        {
          "output_type": "stream",
          "text": [
            " 90% (1260 of 1400) |##################  | Elapsed Time: 0:00:09 ETA:   0:00:01"
          ],
          "name": "stderr"
        },
        {
          "output_type": "stream",
          "text": [
            "train mean loss=170.94875984191896, accuracy=0.25142857283353803\n"
          ],
          "name": "stdout"
        },
        {
          "output_type": "stream",
          "text": [
            " 99% (30520 of 30660) |################# | Elapsed Time: 0:01:33 ETA:   0:00:00"
          ],
          "name": "stderr"
        },
        {
          "output_type": "stream",
          "text": [
            "test mean loss=178.40152090753867, accuracy=0.1598499671186078\n",
            "Epoch: 54\n"
          ],
          "name": "stdout"
        },
        {
          "output_type": "stream",
          "text": [
            " 90% (1260 of 1400) |##################  | Elapsed Time: 0:00:09 ETA:   0:00:01"
          ],
          "name": "stderr"
        },
        {
          "output_type": "stream",
          "text": [
            "train mean loss=194.53983535766602, accuracy=0.2307142898440361\n"
          ],
          "name": "stdout"
        },
        {
          "output_type": "stream",
          "text": [
            " 99% (30520 of 30660) |################# | Elapsed Time: 0:01:33 ETA:   0:00:00"
          ],
          "name": "stderr"
        },
        {
          "output_type": "stream",
          "text": [
            "test mean loss=190.42480958017438, accuracy=0.2511741689355304\n",
            "Epoch: 55\n"
          ],
          "name": "stdout"
        },
        {
          "output_type": "stream",
          "text": [
            " 90% (1260 of 1400) |##################  | Elapsed Time: 0:00:09 ETA:   0:00:00"
          ],
          "name": "stderr"
        },
        {
          "output_type": "stream",
          "text": [
            "train mean loss=194.41577682495117, accuracy=0.2592857167124748\n"
          ],
          "name": "stdout"
        },
        {
          "output_type": "stream",
          "text": [
            " 99% (30520 of 30660) |################# | Elapsed Time: 0:01:34 ETA:   0:00:00"
          ],
          "name": "stderr"
        },
        {
          "output_type": "stream",
          "text": [
            "test mean loss=201.05404293884152, accuracy=0.18411611241700987\n",
            "Epoch: 56\n"
          ],
          "name": "stdout"
        },
        {
          "output_type": "stream",
          "text": [
            " 90% (1260 of 1400) |##################  | Elapsed Time: 0:00:08 ETA:   0:00:01"
          ],
          "name": "stderr"
        },
        {
          "output_type": "stream",
          "text": [
            "train mean loss=135.29917373657227, accuracy=0.28428571820259096\n"
          ],
          "name": "stdout"
        },
        {
          "output_type": "stream",
          "text": [
            " 99% (30520 of 30660) |################# | Elapsed Time: 0:01:33 ETA:   0:00:00"
          ],
          "name": "stderr"
        },
        {
          "output_type": "stream",
          "text": [
            "test mean loss=154.37117490852512, accuracy=0.2436725378895527\n",
            "Epoch: 57\n"
          ],
          "name": "stdout"
        },
        {
          "output_type": "stream",
          "text": [
            " 90% (1260 of 1400) |##################  | Elapsed Time: 0:00:09 ETA:   0:00:01"
          ],
          "name": "stderr"
        },
        {
          "output_type": "stream",
          "text": [
            "train mean loss=226.84695587158203, accuracy=0.21714286059141158\n"
          ],
          "name": "stdout"
        },
        {
          "output_type": "stream",
          "text": [
            " 99% (30520 of 30660) |################# | Elapsed Time: 0:01:34 ETA:   0:00:00"
          ],
          "name": "stderr"
        },
        {
          "output_type": "stream",
          "text": [
            "test mean loss=332.30049671865487, accuracy=0.15016307954391525\n",
            "Epoch: 58\n"
          ],
          "name": "stdout"
        },
        {
          "output_type": "stream",
          "text": [
            " 90% (1260 of 1400) |##################  | Elapsed Time: 0:00:09 ETA:   0:00:01"
          ],
          "name": "stderr"
        },
        {
          "output_type": "stream",
          "text": [
            "train mean loss=190.21402587890626, accuracy=0.23214286118745803\n"
          ],
          "name": "stdout"
        },
        {
          "output_type": "stream",
          "text": [
            " 99% (30520 of 30660) |################# | Elapsed Time: 0:01:32 ETA:   0:00:00"
          ],
          "name": "stderr"
        },
        {
          "output_type": "stream",
          "text": [
            "test mean loss=234.53660419624242, accuracy=0.2641552515629866\n",
            "Epoch: 59\n"
          ],
          "name": "stdout"
        },
        {
          "output_type": "stream",
          "text": [
            " 90% (1260 of 1400) |##################  | Elapsed Time: 0:00:09 ETA:   0:00:01"
          ],
          "name": "stderr"
        },
        {
          "output_type": "stream",
          "text": [
            "train mean loss=169.17617721557616, accuracy=0.25928571820259094\n"
          ],
          "name": "stdout"
        },
        {
          "output_type": "stream",
          "text": [
            " 99% (30520 of 30660) |################# | Elapsed Time: 0:01:33 ETA:   0:00:00"
          ],
          "name": "stderr"
        },
        {
          "output_type": "stream",
          "text": [
            "test mean loss=93.2552063382817, accuracy=0.19882583220119346\n",
            "Epoch: 60\n"
          ],
          "name": "stdout"
        },
        {
          "output_type": "stream",
          "text": [
            " 90% (1260 of 1400) |##################  | Elapsed Time: 0:00:09 ETA:   0:00:00"
          ],
          "name": "stderr"
        },
        {
          "output_type": "stream",
          "text": [
            "train mean loss=176.78474349975585, accuracy=0.27571429014205934\n"
          ],
          "name": "stdout"
        },
        {
          "output_type": "stream",
          "text": [
            " 99% (30520 of 30660) |################# | Elapsed Time: 0:01:33 ETA:   0:00:00"
          ],
          "name": "stderr"
        },
        {
          "output_type": "stream",
          "text": [
            "test mean loss=240.56103752213255, accuracy=0.1468036535948719\n",
            "Epoch: 61\n"
          ],
          "name": "stdout"
        },
        {
          "output_type": "stream",
          "text": [
            " 90% (1260 of 1400) |##################  | Elapsed Time: 0:00:10 ETA:   0:00:01"
          ],
          "name": "stderr"
        },
        {
          "output_type": "stream",
          "text": [
            "train mean loss=185.1686248779297, accuracy=0.26571428775787354\n"
          ],
          "name": "stdout"
        },
        {
          "output_type": "stream",
          "text": [
            " 99% (30520 of 30660) |################# | Elapsed Time: 0:01:33 ETA:   0:00:00"
          ],
          "name": "stderr"
        },
        {
          "output_type": "stream",
          "text": [
            "test mean loss=185.18882303724294, accuracy=0.12097195016653979\n",
            "Epoch: 62\n"
          ],
          "name": "stdout"
        },
        {
          "output_type": "stream",
          "text": [
            " 90% (1260 of 1400) |##################  | Elapsed Time: 0:00:11 ETA:   0:00:01"
          ],
          "name": "stderr"
        },
        {
          "output_type": "stream",
          "text": [
            "train mean loss=183.69778442382812, accuracy=0.24357143491506578\n"
          ],
          "name": "stdout"
        },
        {
          "output_type": "stream",
          "text": [
            " 99% (30520 of 30660) |################# | Elapsed Time: 0:01:32 ETA:   0:00:00"
          ],
          "name": "stderr"
        },
        {
          "output_type": "stream",
          "text": [
            "test mean loss=179.5007483186243, accuracy=0.2367906069263952\n",
            "Epoch: 63\n"
          ],
          "name": "stdout"
        },
        {
          "output_type": "stream",
          "text": [
            " 90% (1260 of 1400) |##################  | Elapsed Time: 0:00:11 ETA:   0:00:01"
          ],
          "name": "stderr"
        },
        {
          "output_type": "stream",
          "text": [
            "train mean loss=122.21694641113281, accuracy=0.2507142901420593\n"
          ],
          "name": "stdout"
        },
        {
          "output_type": "stream",
          "text": [
            " 99% (30520 of 30660) |################# | Elapsed Time: 0:01:31 ETA:   0:00:00"
          ],
          "name": "stderr"
        },
        {
          "output_type": "stream",
          "text": [
            "test mean loss=261.4680060779667, accuracy=0.20045662165053835\n",
            "Epoch: 64\n"
          ],
          "name": "stdout"
        },
        {
          "output_type": "stream",
          "text": [
            " 90% (1260 of 1400) |##################  | Elapsed Time: 0:00:11 ETA:   0:00:01"
          ],
          "name": "stderr"
        },
        {
          "output_type": "stream",
          "text": [
            "train mean loss=217.56331100463868, accuracy=0.2400000050663948\n"
          ],
          "name": "stdout"
        },
        {
          "output_type": "stream",
          "text": [
            " 99% (30520 of 30660) |################# | Elapsed Time: 0:01:32 ETA:   0:00:00"
          ],
          "name": "stderr"
        },
        {
          "output_type": "stream",
          "text": [
            "test mean loss=140.81058575192543, accuracy=0.1601108940207659\n",
            "Epoch: 65\n"
          ],
          "name": "stdout"
        },
        {
          "output_type": "stream",
          "text": [
            " 90% (1260 of 1400) |##################  | Elapsed Time: 0:00:11 ETA:   0:00:01"
          ],
          "name": "stderr"
        },
        {
          "output_type": "stream",
          "text": [
            "train mean loss=226.5011428833008, accuracy=0.24928571730852128\n"
          ],
          "name": "stdout"
        },
        {
          "output_type": "stream",
          "text": [
            " 99% (30520 of 30660) |################# | Elapsed Time: 0:01:31 ETA:   0:00:00"
          ],
          "name": "stderr"
        },
        {
          "output_type": "stream",
          "text": [
            "test mean loss=372.2192987318929, accuracy=0.14895629543241232\n",
            "Epoch: 66\n"
          ],
          "name": "stdout"
        },
        {
          "output_type": "stream",
          "text": [
            " 90% (1260 of 1400) |##################  | Elapsed Time: 0:00:11 ETA:   0:00:01"
          ],
          "name": "stderr"
        },
        {
          "output_type": "stream",
          "text": [
            "train mean loss=202.92088775634767, accuracy=0.2450000002980232\n"
          ],
          "name": "stdout"
        },
        {
          "output_type": "stream",
          "text": [
            " 99% (30520 of 30660) |################# | Elapsed Time: 0:01:38 ETA:   0:00:00"
          ],
          "name": "stderr"
        },
        {
          "output_type": "stream",
          "text": [
            "test mean loss=269.110913532693, accuracy=0.16575342525630238\n",
            "Epoch: 67\n"
          ],
          "name": "stdout"
        },
        {
          "output_type": "stream",
          "text": [
            " 90% (1260 of 1400) |##################  | Elapsed Time: 0:00:11 ETA:   0:00:01"
          ],
          "name": "stderr"
        },
        {
          "output_type": "stream",
          "text": [
            "train mean loss=192.7096061706543, accuracy=0.22500000149011612\n"
          ],
          "name": "stdout"
        },
        {
          "output_type": "stream",
          "text": [
            " 99% (30520 of 30660) |################# | Elapsed Time: 0:01:34 ETA:   0:00:00"
          ],
          "name": "stderr"
        },
        {
          "output_type": "stream",
          "text": [
            "test mean loss=197.43348874177548, accuracy=0.11637312377543618\n",
            "Epoch: 68\n"
          ],
          "name": "stdout"
        },
        {
          "output_type": "stream",
          "text": [
            " 90% (1260 of 1400) |##################  | Elapsed Time: 0:00:11 ETA:   0:00:01"
          ],
          "name": "stderr"
        },
        {
          "output_type": "stream",
          "text": [
            "train mean loss=132.43540725708007, accuracy=0.26142857521772384\n"
          ],
          "name": "stdout"
        },
        {
          "output_type": "stream",
          "text": [
            " 99% (30520 of 30660) |################# | Elapsed Time: 0:01:34 ETA:   0:00:00"
          ],
          "name": "stderr"
        },
        {
          "output_type": "stream",
          "text": [
            "test mean loss=133.9639699512032, accuracy=0.2160469675691773\n",
            "Epoch: 69\n"
          ],
          "name": "stdout"
        },
        {
          "output_type": "stream",
          "text": [
            " 90% (1260 of 1400) |##################  | Elapsed Time: 0:00:11 ETA:   0:00:01"
          ],
          "name": "stderr"
        },
        {
          "output_type": "stream",
          "text": [
            "train mean loss=134.5257781982422, accuracy=0.25642857402563096\n"
          ],
          "name": "stdout"
        },
        {
          "output_type": "stream",
          "text": [
            " 99% (30520 of 30660) |################# | Elapsed Time: 0:01:33 ETA:   0:00:00"
          ],
          "name": "stderr"
        },
        {
          "output_type": "stream",
          "text": [
            "test mean loss=200.6652240223174, accuracy=0.1466079582630329\n",
            "Epoch: 70\n"
          ],
          "name": "stdout"
        },
        {
          "output_type": "stream",
          "text": [
            " 90% (1260 of 1400) |##################  | Elapsed Time: 0:00:11 ETA:   0:00:01"
          ],
          "name": "stderr"
        },
        {
          "output_type": "stream",
          "text": [
            "train mean loss=125.78402328491211, accuracy=0.27857142984867095\n"
          ],
          "name": "stdout"
        },
        {
          "output_type": "stream",
          "text": [
            " 99% (30520 of 30660) |################# | Elapsed Time: 0:01:35 ETA:   0:00:00"
          ],
          "name": "stderr"
        },
        {
          "output_type": "stream",
          "text": [
            "test mean loss=198.94015483380952, accuracy=0.12002609257233333\n",
            "Epoch: 71\n"
          ],
          "name": "stdout"
        },
        {
          "output_type": "stream",
          "text": [
            " 90% (1260 of 1400) |##################  | Elapsed Time: 0:00:11 ETA:   0:00:01"
          ],
          "name": "stderr"
        },
        {
          "output_type": "stream",
          "text": [
            "train mean loss=167.73609619140626, accuracy=0.2650000050663948\n"
          ],
          "name": "stdout"
        },
        {
          "output_type": "stream",
          "text": [
            " 99% (30520 of 30660) |################# | Elapsed Time: 0:01:35 ETA:   0:00:00"
          ],
          "name": "stderr"
        },
        {
          "output_type": "stream",
          "text": [
            "test mean loss=222.0714807318498, accuracy=0.17645140229958242\n",
            "Epoch: 72\n"
          ],
          "name": "stdout"
        },
        {
          "output_type": "stream",
          "text": [
            " 90% (1260 of 1400) |##################  | Elapsed Time: 0:00:11 ETA:   0:00:01"
          ],
          "name": "stderr"
        },
        {
          "output_type": "stream",
          "text": [
            "train mean loss=183.30968856811523, accuracy=0.24214286208152772\n"
          ],
          "name": "stdout"
        },
        {
          "output_type": "stream",
          "text": [
            " 99% (30520 of 30660) |################# | Elapsed Time: 0:01:36 ETA:   0:00:00"
          ],
          "name": "stderr"
        },
        {
          "output_type": "stream",
          "text": [
            "test mean loss=164.26075519492093, accuracy=0.1385192441048109\n",
            "Epoch: 73\n"
          ],
          "name": "stdout"
        },
        {
          "output_type": "stream",
          "text": [
            " 90% (1260 of 1400) |##################  | Elapsed Time: 0:00:11 ETA:   0:00:01"
          ],
          "name": "stderr"
        },
        {
          "output_type": "stream",
          "text": [
            "train mean loss=212.08710479736328, accuracy=0.23285714834928511\n"
          ],
          "name": "stdout"
        },
        {
          "output_type": "stream",
          "text": [
            " 99% (30520 of 30660) |################# | Elapsed Time: 0:01:35 ETA:   0:00:00"
          ],
          "name": "stderr"
        },
        {
          "output_type": "stream",
          "text": [
            "test mean loss=368.10716485369477, accuracy=0.11545988255006061\n",
            "Epoch: 74\n"
          ],
          "name": "stdout"
        },
        {
          "output_type": "stream",
          "text": [
            " 90% (1260 of 1400) |##################  | Elapsed Time: 0:00:11 ETA:   0:00:01"
          ],
          "name": "stderr"
        },
        {
          "output_type": "stream",
          "text": [
            "train mean loss=315.22166595458987, accuracy=0.207857146859169\n"
          ],
          "name": "stdout"
        },
        {
          "output_type": "stream",
          "text": [
            " 99% (30520 of 30660) |################# | Elapsed Time: 0:01:35 ETA:   0:00:00"
          ],
          "name": "stderr"
        },
        {
          "output_type": "stream",
          "text": [
            "test mean loss=240.11427056188077, accuracy=0.26810176088793636\n",
            "Epoch: 75\n"
          ],
          "name": "stdout"
        },
        {
          "output_type": "stream",
          "text": [
            " 90% (1260 of 1400) |##################  | Elapsed Time: 0:00:09 ETA:   0:00:01"
          ],
          "name": "stderr"
        },
        {
          "output_type": "stream",
          "text": [
            "train mean loss=246.2031036376953, accuracy=0.21857143193483353\n"
          ],
          "name": "stdout"
        },
        {
          "output_type": "stream",
          "text": [
            " 99% (30520 of 30660) |################# | Elapsed Time: 0:01:33 ETA:   0:00:00"
          ],
          "name": "stderr"
        },
        {
          "output_type": "stream",
          "text": [
            "test mean loss=145.38254142131052, accuracy=0.2591324202890708\n",
            "Epoch: 76\n"
          ],
          "name": "stdout"
        },
        {
          "output_type": "stream",
          "text": [
            " 90% (1260 of 1400) |##################  | Elapsed Time: 0:00:08 ETA:   0:00:00"
          ],
          "name": "stderr"
        },
        {
          "output_type": "stream",
          "text": [
            "train mean loss=147.2605125427246, accuracy=0.28357143253087996\n"
          ],
          "name": "stdout"
        },
        {
          "output_type": "stream",
          "text": [
            " 99% (30520 of 30660) |################# | Elapsed Time: 0:01:32 ETA:   0:00:00"
          ],
          "name": "stderr"
        },
        {
          "output_type": "stream",
          "text": [
            "test mean loss=116.22847366310894, accuracy=0.26930854578829927\n",
            "Epoch: 77\n"
          ],
          "name": "stdout"
        },
        {
          "output_type": "stream",
          "text": [
            " 90% (1260 of 1400) |##################  | Elapsed Time: 0:00:08 ETA:   0:00:00"
          ],
          "name": "stderr"
        },
        {
          "output_type": "stream",
          "text": [
            "train mean loss=172.71083908081056, accuracy=0.27071429044008255\n"
          ],
          "name": "stdout"
        },
        {
          "output_type": "stream",
          "text": [
            " 99% (30520 of 30660) |################# | Elapsed Time: 0:01:33 ETA:   0:00:00"
          ],
          "name": "stderr"
        },
        {
          "output_type": "stream",
          "text": [
            "test mean loss=108.01275120620059, accuracy=0.25495759962917597\n",
            "Epoch: 78\n"
          ],
          "name": "stdout"
        },
        {
          "output_type": "stream",
          "text": [
            " 90% (1260 of 1400) |##################  | Elapsed Time: 0:00:09 ETA:   0:00:00"
          ],
          "name": "stderr"
        },
        {
          "output_type": "stream",
          "text": [
            "train mean loss=203.3805824279785, accuracy=0.24928571730852128\n"
          ],
          "name": "stdout"
        },
        {
          "output_type": "stream",
          "text": [
            " 99% (30520 of 30660) |################# | Elapsed Time: 0:01:34 ETA:   0:00:00"
          ],
          "name": "stderr"
        },
        {
          "output_type": "stream",
          "text": [
            "test mean loss=242.95541961878948, accuracy=0.2302674494819826\n",
            "Epoch: 79\n"
          ],
          "name": "stdout"
        },
        {
          "output_type": "stream",
          "text": [
            " 90% (1260 of 1400) |##################  | Elapsed Time: 0:00:09 ETA:   0:00:01"
          ],
          "name": "stderr"
        },
        {
          "output_type": "stream",
          "text": [
            "train mean loss=174.54706268310548, accuracy=0.23500000089406967\n"
          ],
          "name": "stdout"
        },
        {
          "output_type": "stream",
          "text": [
            " 99% (30520 of 30660) |################# | Elapsed Time: 0:01:32 ETA:   0:00:00"
          ],
          "name": "stderr"
        },
        {
          "output_type": "stream",
          "text": [
            "test mean loss=212.2611778722105, accuracy=0.140834965130748\n",
            "Epoch: 80\n"
          ],
          "name": "stdout"
        },
        {
          "output_type": "stream",
          "text": [
            " 90% (1260 of 1400) |##################  | Elapsed Time: 0:00:09 ETA:   0:00:01"
          ],
          "name": "stderr"
        },
        {
          "output_type": "stream",
          "text": [
            "train mean loss=199.97483139038087, accuracy=0.25428571701049807\n"
          ],
          "name": "stdout"
        },
        {
          "output_type": "stream",
          "text": [
            " 99% (30520 of 30660) |################# | Elapsed Time: 0:01:33 ETA:   0:00:00"
          ],
          "name": "stderr"
        },
        {
          "output_type": "stream",
          "text": [
            "test mean loss=145.80022060843763, accuracy=0.23030006596138147\n",
            "Epoch: 81\n"
          ],
          "name": "stdout"
        },
        {
          "output_type": "stream",
          "text": [
            " 90% (1260 of 1400) |##################  | Elapsed Time: 0:00:08 ETA:   0:00:01"
          ],
          "name": "stderr"
        },
        {
          "output_type": "stream",
          "text": [
            "train mean loss=199.13233451843263, accuracy=0.22214286178350448\n"
          ],
          "name": "stdout"
        },
        {
          "output_type": "stream",
          "text": [
            " 99% (30520 of 30660) |################# | Elapsed Time: 0:01:33 ETA:   0:00:00"
          ],
          "name": "stderr"
        },
        {
          "output_type": "stream",
          "text": [
            "test mean loss=255.27383555233752, accuracy=0.2172537507982627\n",
            "Epoch: 82\n"
          ],
          "name": "stdout"
        },
        {
          "output_type": "stream",
          "text": [
            " 90% (1260 of 1400) |##################  | Elapsed Time: 0:00:09 ETA:   0:00:01"
          ],
          "name": "stderr"
        },
        {
          "output_type": "stream",
          "text": [
            "train mean loss=201.36398315429688, accuracy=0.20500000268220903\n"
          ],
          "name": "stdout"
        },
        {
          "output_type": "stream",
          "text": [
            " 99% (30520 of 30660) |################# | Elapsed Time: 0:01:33 ETA:   0:00:00"
          ],
          "name": "stderr"
        },
        {
          "output_type": "stream",
          "text": [
            "test mean loss=201.0873439471199, accuracy=0.1938682328739531\n",
            "Epoch: 83\n"
          ],
          "name": "stdout"
        },
        {
          "output_type": "stream",
          "text": [
            " 90% (1260 of 1400) |##################  | Elapsed Time: 0:00:08 ETA:   0:00:00"
          ],
          "name": "stderr"
        },
        {
          "output_type": "stream",
          "text": [
            "train mean loss=195.71603546142578, accuracy=0.2328571453690529\n"
          ],
          "name": "stdout"
        },
        {
          "output_type": "stream",
          "text": [
            " 99% (30520 of 30660) |################# | Elapsed Time: 0:01:33 ETA:   0:00:00"
          ],
          "name": "stderr"
        },
        {
          "output_type": "stream",
          "text": [
            "test mean loss=227.61268439222198, accuracy=0.24015003332621568\n",
            "Epoch: 84\n"
          ],
          "name": "stdout"
        },
        {
          "output_type": "stream",
          "text": [
            " 90% (1260 of 1400) |##################  | Elapsed Time: 0:00:09 ETA:   0:00:01"
          ],
          "name": "stderr"
        },
        {
          "output_type": "stream",
          "text": [
            "train mean loss=158.77834701538086, accuracy=0.2550000011920929\n"
          ],
          "name": "stdout"
        },
        {
          "output_type": "stream",
          "text": [
            " 99% (30520 of 30660) |################# | Elapsed Time: 0:01:33 ETA:   0:00:00"
          ],
          "name": "stderr"
        },
        {
          "output_type": "stream",
          "text": [
            "test mean loss=211.17665008670042, accuracy=0.17550554369750632\n",
            "Epoch: 85\n"
          ],
          "name": "stdout"
        },
        {
          "output_type": "stream",
          "text": [
            " 90% (1260 of 1400) |##################  | Elapsed Time: 0:00:08 ETA:   0:00:00"
          ],
          "name": "stderr"
        },
        {
          "output_type": "stream",
          "text": [
            "train mean loss=166.2269714355469, accuracy=0.2642857149243355\n"
          ],
          "name": "stdout"
        },
        {
          "output_type": "stream",
          "text": [
            " 99% (30520 of 30660) |################# | Elapsed Time: 0:01:33 ETA:   0:00:00"
          ],
          "name": "stderr"
        },
        {
          "output_type": "stream",
          "text": [
            "test mean loss=173.54054909852235, accuracy=0.17785388166425095\n",
            "Epoch: 86\n"
          ],
          "name": "stdout"
        },
        {
          "output_type": "stream",
          "text": [
            " 90% (1260 of 1400) |##################  | Elapsed Time: 0:00:08 ETA:   0:00:00"
          ],
          "name": "stderr"
        },
        {
          "output_type": "stream",
          "text": [
            "train mean loss=191.9453369140625, accuracy=0.2700000062584877\n"
          ],
          "name": "stdout"
        },
        {
          "output_type": "stream",
          "text": [
            " 99% (30520 of 30660) |################# | Elapsed Time: 0:01:34 ETA:   0:00:00"
          ],
          "name": "stderr"
        },
        {
          "output_type": "stream",
          "text": [
            "test mean loss=236.2628074662093, accuracy=0.19905414200732358\n",
            "Epoch: 87\n"
          ],
          "name": "stdout"
        },
        {
          "output_type": "stream",
          "text": [
            " 90% (1260 of 1400) |##################  | Elapsed Time: 0:00:08 ETA:   0:00:01"
          ],
          "name": "stderr"
        },
        {
          "output_type": "stream",
          "text": [
            "train mean loss=214.8516387939453, accuracy=0.22214285880327225\n"
          ],
          "name": "stdout"
        },
        {
          "output_type": "stream",
          "text": [
            " 99% (30520 of 30660) |################# | Elapsed Time: 0:01:34 ETA:   0:00:00"
          ],
          "name": "stderr"
        },
        {
          "output_type": "stream",
          "text": [
            "test mean loss=251.30515249697788, accuracy=0.11151337222149384\n",
            "Epoch: 88\n"
          ],
          "name": "stdout"
        },
        {
          "output_type": "stream",
          "text": [
            " 90% (1260 of 1400) |##################  | Elapsed Time: 0:00:08 ETA:   0:00:00"
          ],
          "name": "stderr"
        },
        {
          "output_type": "stream",
          "text": [
            "train mean loss=169.76252822875978, accuracy=0.2600000023841858\n"
          ],
          "name": "stdout"
        },
        {
          "output_type": "stream",
          "text": [
            " 99% (30520 of 30660) |################# | Elapsed Time: 0:01:33 ETA:   0:00:00"
          ],
          "name": "stderr"
        },
        {
          "output_type": "stream",
          "text": [
            "test mean loss=171.85091878482265, accuracy=0.2706784089882624\n",
            "Epoch: 89\n"
          ],
          "name": "stdout"
        },
        {
          "output_type": "stream",
          "text": [
            " 90% (1260 of 1400) |##################  | Elapsed Time: 0:00:08 ETA:   0:00:00"
          ],
          "name": "stderr"
        },
        {
          "output_type": "stream",
          "text": [
            "train mean loss=183.14624099731446, accuracy=0.24571428894996644\n"
          ],
          "name": "stdout"
        },
        {
          "output_type": "stream",
          "text": [
            " 99% (30520 of 30660) |################# | Elapsed Time: 0:01:33 ETA:   0:00:00"
          ],
          "name": "stderr"
        },
        {
          "output_type": "stream",
          "text": [
            "test mean loss=256.5366087792671, accuracy=0.1360730599552461\n",
            "Epoch: 90\n"
          ],
          "name": "stdout"
        },
        {
          "output_type": "stream",
          "text": [
            " 90% (1260 of 1400) |##################  | Elapsed Time: 0:00:08 ETA:   0:00:00"
          ],
          "name": "stderr"
        },
        {
          "output_type": "stream",
          "text": [
            "train mean loss=230.75811004638672, accuracy=0.23142857551574708\n"
          ],
          "name": "stdout"
        },
        {
          "output_type": "stream",
          "text": [
            " 99% (30520 of 30660) |################# | Elapsed Time: 0:01:33 ETA:   0:00:00"
          ],
          "name": "stderr"
        },
        {
          "output_type": "stream",
          "text": [
            "test mean loss=145.50127282078486, accuracy=0.27615786147554783\n",
            "Epoch: 91\n"
          ],
          "name": "stdout"
        },
        {
          "output_type": "stream",
          "text": [
            " 90% (1260 of 1400) |##################  | Elapsed Time: 0:00:08 ETA:   0:00:00"
          ],
          "name": "stderr"
        },
        {
          "output_type": "stream",
          "text": [
            "train mean loss=227.03690567016602, accuracy=0.22142857313156128\n"
          ],
          "name": "stdout"
        },
        {
          "output_type": "stream",
          "text": [
            " 99% (30520 of 30660) |################# | Elapsed Time: 0:01:33 ETA:   0:00:00"
          ],
          "name": "stderr"
        },
        {
          "output_type": "stream",
          "text": [
            "test mean loss=311.78127107663784, accuracy=0.21656881929609126\n",
            "Epoch: 92\n"
          ],
          "name": "stdout"
        },
        {
          "output_type": "stream",
          "text": [
            " 90% (1260 of 1400) |##################  | Elapsed Time: 0:00:08 ETA:   0:00:00"
          ],
          "name": "stderr"
        },
        {
          "output_type": "stream",
          "text": [
            "train mean loss=296.0117218017578, accuracy=0.2600000023841858\n"
          ],
          "name": "stdout"
        },
        {
          "output_type": "stream",
          "text": [
            " 20% (6160 of 30660) |###                | Elapsed Time: 0:00:18 ETA:   0:01:15"
          ],
          "name": "stderr"
        }
      ]
    }
  ]
}